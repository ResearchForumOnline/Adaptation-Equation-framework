{
 "cells": [
  {
   "cell_type": "markdown",
   "id": "37a86e10",
   "metadata": {},
   "source": [
    "# Genetic Adaptation Simulation\n",
    "This notebook demonstrates usage of the Genetic Adaptation Equation."
   ]
  },
  {
   "cell_type": "code",
   "execution_count": null,
   "id": "d49de774",
   "metadata": {},
   "outputs": [],
   "source": [
    "from src.genetic_adaptation import GeneticSystem\n",
    "\n",
    "model = GeneticSystem()\n",
    "result = model.adapt(1.0, 2.0, 0.5)\n",
    "print('Adaptation Result:', result)"
   ]
  }
 ],
 "metadata": {},
 "nbformat": 4,
 "nbformat_minor": 5
}
